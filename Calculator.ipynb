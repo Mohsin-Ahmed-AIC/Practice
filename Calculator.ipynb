{
 "cells": [
  {
   "cell_type": "code",
   "execution_count": 3,
   "metadata": {},
   "outputs": [
    {
     "name": "stdout",
     "output_type": "stream",
     "text": [
      "Enter the first number: 987\n",
      "Enter any math operator from the given list [*, /, +, -, //, %]: *\n",
      "Enter the second number: 2\n",
      "987 * 2 = 1974 \n",
      "\n",
      "Press enter to continue or type exit to quit: \n",
      "Enter the first number: 85\n",
      "Enter any math operator from the given list [*, /, +, -, //, %]: /\n",
      "Enter the second number: 5\n",
      "85 / 5 = 17.0 \n",
      "\n",
      "Press enter to continue or type exit to quit: \n",
      "Enter the first number: 120\n",
      "Enter any math operator from the given list [*, /, +, -, //, %]: +\n",
      "Enter the second number: 98\n",
      "120 + 98 = 218 \n",
      "\n",
      "Press enter to continue or type exit to quit: \n",
      "Enter the first number: 78\n",
      "Enter any math operator from the given list [*, /, +, -, //, %]: -\n",
      "Enter the second number: 50\n",
      "78 - 50 = 28 \n",
      "\n",
      "Press enter to continue or type exit to quit: 65\n",
      "Enter the first number: 65\n",
      "Enter any math operator from the given list [*, /, +, -, //, %]: //\n",
      "Enter the second number: 10\n",
      "65 // 10 = 6 \n",
      "\n",
      "Press enter to continue or type exit to quit: \n",
      "Enter the first number: 98\n",
      "Enter any math operator from the given list [*, /, +, -, //, %]: %\n",
      "Enter the second number: 11\n",
      "98 % 11 = 10 \n",
      "\n",
      "Press enter to continue or type exit to quit: exit\n"
     ]
    }
   ],
   "source": [
    "#Calculator\n",
    "num1 = int(input(\"Enter the first number: \"))\n",
    "operator1 = input(\"Enter any math operator from the given list [*, /, +, -, //, %]: \")\n",
    "num2 = int(input(\"Enter the second number: \"))\n",
    "flag = True\n",
    "while flag:\n",
    "    if operator1 == '+':\n",
    "        print(num1, operator1, num2, '=', num1 + num2)\n",
    "    elif operator1 == '-':\n",
    "        print(num1, operator1, num2, '=', num1 - num2)\n",
    "    elif operator1 == '*':\n",
    "        print(num1, operator1, num2, '=', num1 * num2)\n",
    "    elif operator1 == '/' or operator1 == '//' or operator1 == '%':\n",
    "        if num2 != 0:\n",
    "            if operator1 == '/':\n",
    "                print(num1, operator1, num2, '=', num1 / num2)\n",
    "            if operator1 == '//':\n",
    "                print(num1, operator1, num2, '=', num1 // num2)\n",
    "            if operator1 == '%':\n",
    "                print(num1, operator1, num2, '=', num1 % num2)\n",
    "        if num2 == 0:\n",
    "            print(\"Please enter value other than 0 for second number.\")\n",
    "    else:\n",
    "        print(\"You have entered an invalid operator.\")\n",
    "    #a = input(\"Press enter to continue or exit to quit.\")\n",
    "    if input(\"Press enter to continue or type exit to quit: \") == 'exit':\n",
    "        flag = False\n",
    "    else:\n",
    "        num1 = int(input(\"Enter the first number: \"))\n",
    "        operator1 = input(\"Enter any math operator from the given list [*, /, +, -, //, %]: \")\n",
    "        num2 = int(input(\"Enter the second number: \"))\n",
    "        continue"
   ]
  },
  {
   "cell_type": "code",
   "execution_count": 1,
   "metadata": {},
   "outputs": [
    {
     "name": "stdout",
     "output_type": "stream",
     "text": [
      "Enter the first number: 9\n",
      "Enter any math operator from the given list [*, /, +, -, //, %]: +\n",
      "Enter the second number: 10\n",
      "9 + 10 = 19\n",
      "Press enter to continue or type exit to quit: exit\n"
     ]
    }
   ],
   "source": [
    "#Calculator\n",
    "#Using While Loop\n",
    "flag = True\n",
    "while flag:\n",
    "    num1 = int(input(\"Enter the first number: \"))\n",
    "    operator1 = input(\"Enter any math operator from the given list [*, /, +, -, //, %]: \")\n",
    "    num2 = int(input(\"Enter the second number: \"))\n",
    "    if operator1 == '+':\n",
    "        print(num1, operator1, num2, '=', num1 + num2)\n",
    "    elif operator1 == '-':\n",
    "        print(num1, operator1, num2, '=', num1 - num2)\n",
    "    elif operator1 == '*':\n",
    "        print(num1, operator1, num2, '=', num1 * num2)\n",
    "    elif operator1 == '/' or operator1 == '//' or operator1 == '%':\n",
    "        if num2 != 0:\n",
    "            if operator1 == '/':\n",
    "                print(num1, operator1, num2, '=', num1 / num2)\n",
    "            if operator1 == '//':\n",
    "                print(num1, operator1, num2, '=', num1 // num2)\n",
    "            if operator1 == '%':\n",
    "                print(num1, operator1, num2, '=', num1 % num2)\n",
    "        if num2 == 0:\n",
    "            print(\"Please enter value other than 0 for second number.\")\n",
    "    else:\n",
    "        print(\"You have entered an invalid operator.\")\n",
    "    #a = input(\"Press enter to continue or exit to quit.\")\n",
    "    if input(\"Press enter to continue or type exit to quit: \") == 'exit':\n",
    "        flag = False\n",
    "    else:\n",
    "        continue"
   ]
  }
 ],
 "metadata": {
  "kernelspec": {
   "display_name": "Python 3",
   "language": "python",
   "name": "python3"
  },
  "language_info": {
   "codemirror_mode": {
    "name": "ipython",
    "version": 3
   },
   "file_extension": ".py",
   "mimetype": "text/x-python",
   "name": "python",
   "nbconvert_exporter": "python",
   "pygments_lexer": "ipython3",
   "version": "3.7.2"
  }
 },
 "nbformat": 4,
 "nbformat_minor": 2
}
