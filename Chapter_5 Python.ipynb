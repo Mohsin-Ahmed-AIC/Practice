{
 "cells": [
  {
   "cell_type": "code",
   "execution_count": 30,
   "metadata": {},
   "outputs": [
    {
     "name": "stdout",
     "output_type": "stream",
     "text": [
      "Enter a number to evaluate: \n",
      "100\n",
      "Great! A+. You entered: 100\n"
     ]
    }
   ],
   "source": [
    "print(\"Enter a number to evaluate: \")\n",
    "nu = int(input())\n",
    "if nu > 90 and nu <= 100:\n",
    "    print(\"Great! A+. You entered: \" + str(nu))\n",
    "elif nu > 80 and nu < 90:\n",
    "    print(\"A. You entered: \" + str(nu))\n",
    "elif nu > 70 and nu < 80:\n",
    "    print(\"B. You entered: \" + str(nu))\n",
    "elif nu > 60 and nu < 70:\n",
    "    print(\"F. You entered: \" + str(nu))\n",
    "elif nu > 100:\n",
    "    print(\"Invalid number.\")\n",
    "else:\n",
    "    print(\"Invalid.\")"
   ]
  },
  {
   "cell_type": "code",
   "execution_count": 38,
   "metadata": {},
   "outputs": [
    {
     "name": "stdout",
     "output_type": "stream",
     "text": [
      "Enter a number to evaluate: \n",
      "57\n",
      "F. You entered: 57\n"
     ]
    }
   ],
   "source": [
    "print(\"Enter a number to evaluate: \")\n",
    "nu = int(input())\n",
    "if nu > 100:\n",
    "    print(\"Invalid number.\")\n",
    "if nu > 90:\n",
    "    print(\"Great! A+. You entered: \" + str(nu))\n",
    "elif nu > 80:\n",
    "    print(\"A. You entered: \" + str(nu))\n",
    "elif nu > 70:\n",
    "    print(\"B. You entered: \" + str(nu))\n",
    "elif nu < 70:\n",
    "    print(\"F. You entered: \" + str(nu))\n"
   ]
  },
  {
   "cell_type": "code",
   "execution_count": 41,
   "metadata": {},
   "outputs": [
    {
     "name": "stdout",
     "output_type": "stream",
     "text": [
      "\n"
     ]
    }
   ],
   "source": [
    "#5-3\n",
    "alien_color = 'yellow'\n",
    "if alien_color == 'green':\n",
    "    print(\"The player just earned 5 points.\")\n",
    "if alien_color != 'green':\n",
    "    print()"
   ]
  },
  {
   "cell_type": "code",
   "execution_count": 47,
   "metadata": {},
   "outputs": [
    {
     "name": "stdout",
     "output_type": "stream",
     "text": [
      "The player just earned 10 points.\n"
     ]
    }
   ],
   "source": [
    "#5-4\n",
    "alien_color1 = 'yellow'\n",
    "if alien_color1 == 'green':\n",
    "    print(\"The player just earned 5 points for shooting the alien.\")\n",
    "else:\n",
    "    print(\"The player just earned 10 points.\")"
   ]
  },
  {
   "cell_type": "code",
   "execution_count": 58,
   "metadata": {},
   "outputs": [
    {
     "name": "stdout",
     "output_type": "stream",
     "text": [
      "The player earned 15 points.\n"
     ]
    }
   ],
   "source": [
    "#5-5\n",
    "alien_color2 = 'Red'\n",
    "if alien_color2 == 'green':\n",
    "    print(\"The player earned 5 points.\")\n",
    "elif alien_color2.lower() == 'yellow':\n",
    "    print(\"The player earned 10 points.\")\n",
    "elif alien_color2.lower() == 'red':\n",
    "    print(\"The player earned 15 points.\")"
   ]
  },
  {
   "cell_type": "code",
   "execution_count": 75,
   "metadata": {},
   "outputs": [
    {
     "name": "stdout",
     "output_type": "stream",
     "text": [
      "The person is an elder.\n"
     ]
    }
   ],
   "source": [
    "#5-6\n",
    "age = 79\n",
    "if age < 2:\n",
    "    print(\"The person is a baby.\")\n",
    "elif 2 <= age < 4:\n",
    "    print(\"The person is a Toddler.\")\n",
    "elif 4 <= age < 13:\n",
    "    print(\"The person is a Kid.\")\n",
    "elif 13 <= age < 20:\n",
    "    print(\"The person is a teenager.\")\n",
    "elif 20 <= age < 65:\n",
    "    print(\"The person is an adult.\")\n",
    "else:\n",
    "    print(\"The person is an elder.\")"
   ]
  },
  {
   "cell_type": "code",
   "execution_count": 84,
   "metadata": {},
   "outputs": [
    {
     "name": "stdout",
     "output_type": "stream",
     "text": [
      "You really like Banana!\n",
      "You really like Mango!\n",
      "You really like Guava!\n",
      "You really like Papaya!\n"
     ]
    }
   ],
   "source": [
    "#5-7\n",
    "favorite_fruits = [\"banana\",\"mango\",\"guava\",\"papaya\"]\n",
    "if \"banana\" in favorite_fruits:\n",
    "    print(\"You really like Banana!\")\n",
    "if \"mango\" in favorite_fruits:\n",
    "    print(\"You really like Mango!\")\n",
    "if \"guava\" in favorite_fruits:\n",
    "    print(\"You really like Guava!\")\n",
    "if \"papaya\" in favorite_fruits:\n",
    "    print(\"You really like Papaya!\")\n",
    "if \"apple\" in favorite_fruits:\n",
    "    print(\"You really like Apple\")"
   ]
  },
  {
   "cell_type": "code",
   "execution_count": 96,
   "metadata": {},
   "outputs": [
    {
     "name": "stdout",
     "output_type": "stream",
     "text": [
      "Hello Aadi, thank you for logging in again.\n",
      "Hello Moa, thank you for logging in again.\n",
      "Hello Dini, thank you for logging in again.\n",
      "Hello Nash, thank you for logging in again.\n",
      "Hello Admin, would you like to see a status report?\n"
     ]
    }
   ],
   "source": [
    "#5-8\n",
    "user = ['aadi','moa','dini','nash','admin']\n",
    "for us in user:\n",
    "    if us.lower() == 'admin':\n",
    "        print(\"Hello \" + us.title() + \", would you like to see a status report?\")\n",
    "    else:\n",
    "        print(\"Hello \" + us.title() + \", thank you for logging in again.\")"
   ]
  },
  {
   "cell_type": "code",
   "execution_count": 99,
   "metadata": {},
   "outputs": [
    {
     "name": "stdout",
     "output_type": "stream",
     "text": [
      "We need to find some users!\n"
     ]
    }
   ],
   "source": [
    "#5-9\n",
    "#user = ['aadi','moa','dini','nash','admin']\n",
    "user = []\n",
    "if user:\n",
    "    for us in user:\n",
    "        if us.lower() == 'admin':\n",
    "            print(\"Hello \" + us.title() + \", would you like to see a status report?\")\n",
    "        else:\n",
    "            print(\"Hello \" + us.title() + \", thank you for logging in again.\")\n",
    "else:\n",
    "    print(\"We need to find some users!\")"
   ]
  },
  {
   "cell_type": "code",
   "execution_count": 9,
   "metadata": {},
   "outputs": [
    {
     "name": "stdout",
     "output_type": "stream",
     "text": [
      "The person will need to enter a new username.\n",
      "The person will need to enter a new username.\n",
      "The username is available.\n",
      "The username is available.\n",
      "The username is available.\n"
     ]
    }
   ],
   "source": [
    "#5-10\n",
    "current_users = ['aadi','moa','dini','nash','admin']\n",
    "new_users = ['aadi','moa','doni','sa',\"ur\"]\n",
    "for new in new_users:\n",
    "    if new.lower() in current_users:\n",
    "        print(\"The person will need to enter a new username.\")\n",
    "    else:\n",
    "        print(\"The username is available.\")"
   ]
  },
  {
   "cell_type": "code",
   "execution_count": 16,
   "metadata": {},
   "outputs": [
    {
     "name": "stdout",
     "output_type": "stream",
     "text": [
      "1st\n",
      "\n",
      "2nd\n",
      "\n",
      "3rd\n",
      "\n",
      "4th\n",
      "\n",
      "5th\n",
      "\n",
      "6th\n",
      "\n",
      "7th\n",
      "\n",
      "8th\n",
      "\n",
      "9th\n"
     ]
    }
   ],
   "source": [
    "#5-11\n",
    "_ord = [i for i in range(1,10)]\n",
    "for i in _ord:\n",
    "    if i == 1:\n",
    "        print(str(i) + \"st\")\n",
    "    elif i == 2:\n",
    "        print(\"\\n\" + str(i) + \"nd\")\n",
    "    elif i == 3:\n",
    "        print(\"\\n\" + str(i) + \"rd\")\n",
    "    else:\n",
    "        print(\"\\n\" + str(i) + \"th\")"
   ]
  },
  {
   "cell_type": "code",
   "execution_count": 76,
   "metadata": {},
   "outputs": [
    {
     "name": "stdout",
     "output_type": "stream",
     "text": [
      "The name of the person is: John Doe. Age: 30. City: London.\n"
     ]
    }
   ],
   "source": [
    "#6-1\n",
    "person = {'first_name':'John','last_name':'Doe','age':'30','city':'London'}\n",
    "print(\"The name of the person is: \" + person['first_name'] + \" \" + \n",
    "      person['last_name'] + \". Age: \" + person['age'] + \". City: \" +person['city'] + \".\")"
   ]
  },
  {
   "cell_type": "code",
   "execution_count": 88,
   "metadata": {},
   "outputs": [
    {
     "name": "stdout",
     "output_type": "stream",
     "text": [
      "The favorite number of Ann is: 2\n",
      "The favorite number of Nim is: 5\n",
      "The favorite number of Kim is: 7\n",
      "The favorite number of Joe is: 11\n",
      "The favorite number of Tim is: 1\n",
      "\n",
      "The chosen number for Ann is: 2\n",
      "The chosen number for Nim is: 5\n",
      "The chosen number for Kim is: 7\n",
      "The chosen number for Joe is: 11\n",
      "The chosen number for Tim is: 1\n"
     ]
    }
   ],
   "source": [
    "#6-2\n",
    "fav_num = {'ann':'2','nim':'5','kim':'7','joe':'11','tim':'1'}\n",
    "print(\"The favorite number of Ann is: \" + fav_num['ann'])\n",
    "print(\"The favorite number of Nim is: \" + fav_num['nim'])\n",
    "print(\"The favorite number of Kim is: \" + fav_num['kim'])\n",
    "print(\"The favorite number of Joe is: \" + fav_num['joe'])\n",
    "print(\"The favorite number of Tim is: \" + fav_num['tim'])\n",
    "print()\n",
    "for i in fav_num:\n",
    "    print(\"The chosen number for \" + i.title() + \" is: \" + fav_num[i])"
   ]
  },
  {
   "cell_type": "code",
   "execution_count": 110,
   "metadata": {},
   "outputs": [
    {
     "name": "stdout",
     "output_type": "stream",
     "text": [
      "The title() function is used for:\tMakes the string value in title case.\n",
      "\n",
      "The lower() function is used for:\tMakes the string value in lower case.\n",
      "\n",
      "The upper() function is used for:\tMakes the string value in upper case.\n",
      "\n",
      "The min() function is used for: \tDetermines the min value in a list.\n",
      "\n",
      "The max() function is used for: \tDetermines the min value in a list.\n",
      "\n"
     ]
    }
   ],
   "source": [
    "#6-3\n",
    "gloss = {'title':'Makes the string value in title case','lower':'Makes the string value in lower case',\n",
    "         'upper':'Makes the string value in upper case','min':'Determines the min value in a list',\n",
    "         'max':'Determines the min value in a list',}\n",
    "print(\"The title() function is used for:\\t\" + gloss['title']+ '.' + '\\n')\n",
    "print(\"The lower() function is used for:\\t\" + gloss['lower'] + '.' + '\\n')\n",
    "print(\"The upper() function is used for:\\t\" + gloss['upper'] + '.' + '\\n')\n",
    "print(\"The min() function is used for: \\t\" + gloss['min'] + '.' + '\\n')\n",
    "print(\"The max() function is used for: \\t\" + gloss['max'] + '.' + '\\n')"
   ]
  },
  {
   "cell_type": "code",
   "execution_count": 138,
   "metadata": {},
   "outputs": [
    {
     "name": "stdout",
     "output_type": "stream",
     "text": [
      "The \"title\" function is used for: \tMakes the string value in title case.\n",
      "\n",
      "The \"lower\" function is used for: \tMakes the string value in lower case.\n",
      "\n",
      "The \"upper\" function is used for: \tMakes the string value in upper case.\n",
      "\n",
      "The \"min\" function is used for: \tDetermines the min value in a list.\n",
      "\n",
      "The \"max\" function is used for: \tDetermines the min value in a list.\n",
      "\n",
      "The \"print\" function is used for: \tTo display the value at the output.\n",
      "\n",
      "The \"sort\" function is used for: \tTo permenantly sort the list or values.\n",
      "\n",
      "The \"lstrip\" function is used for: \tTo remove extra spaces form the left.\n",
      "\n",
      "The \"rstrip\" function is used for: \tTo remove extra spaces form the right.\n",
      "\n",
      "The \"strip\" function is used for: \tTo remove extra spaces form the value.\n",
      "\n"
     ]
    }
   ],
   "source": [
    "#6-4\n",
    "gloss = {'title':'Makes the string value in title case','lower':'Makes the string value in lower case',\n",
    "         'upper':'Makes the string value in upper case','min':'Determines the min value in a list',\n",
    "         'max':'Determines the min value in a list',}\n",
    "\n",
    "gloss['print'] = 'To display the value at the output'\n",
    "gloss['sort'] = 'To permenantly sort the list or values'\n",
    "gloss['lstrip'] = 'To remove extra spaces form the left'\n",
    "gloss['rstrip'] = 'To remove extra spaces form the right'\n",
    "gloss['strip'] = 'To remove extra spaces form the value'\n",
    "for k, v in gloss.items():\n",
    "    print('The \"' + k + '\" function is used for: \\t' + v + '.' + '\\n')"
   ]
  },
  {
   "cell_type": "code",
   "execution_count": 134,
   "metadata": {},
   "outputs": [
    {
     "name": "stdout",
     "output_type": "stream",
     "text": [
      "The Nile runs through the Egypt.\n",
      "The Amazon runs through the Brazil.\n",
      "The Mekong runs through the China.\n",
      "\n",
      "The name of each river included in the dictionary is:\n",
      "Nile\n",
      "Amazon\n",
      "Mekong\n",
      "\n",
      "The name of each country included in the dictionary is:\n",
      "Egypt\n",
      "Brazil\n",
      "China\n"
     ]
    }
   ],
   "source": [
    "#6-5\n",
    "rivers = {'nile':'egypt', 'amazon':'brazil', 'mekong':'china'}\n",
    "for k, v in rivers.items():\n",
    "    print(\"The \" + k.title() + \" runs through the \" + v.title() + \".\")\n",
    "print(\"\\nThe name of each river included in the dictionary is:\")\n",
    "for k in rivers.keys():\n",
    "    print(k.title())\n",
    "print(\"\\nThe name of each country included in the dictionary is:\")\n",
    "for v in rivers.values():\n",
    "    print(v.title())"
   ]
  },
  {
   "cell_type": "code",
   "execution_count": 163,
   "metadata": {},
   "outputs": [
    {
     "name": "stdout",
     "output_type": "stream",
     "text": [
      "Thank you Jen! For participating in the poll.\n",
      "Thank you Sarah! For participating in the poll.\n",
      "Thank you Edward! For participating in the poll.\n",
      "Thank you Phil! For participating in the poll.\n",
      "\n",
      "\n",
      "Hi Erin! Please go through the poll and provide your feedback.\n",
      "\n",
      "\n",
      "Hi Jim! Please go through the poll and provide your feedback.\n",
      "\n",
      "\n",
      "Hi Kyle! Please go through the poll and provide your feedback.\n"
     ]
    }
   ],
   "source": [
    "favorite_languages = {\n",
    "    'jen':'python',\n",
    "    'sarah':'c',\n",
    "    'edward':'ruby',\n",
    "    'phil':'python',\n",
    "}\n",
    "list23 = ['jen', 'sarah', 'edward', 'phil', 'erin', 'jim', 'kyle']\n",
    "for k in list23:\n",
    "    if k in favorite_languages:\n",
    "        print(\"Thank you \" + k.title() + \"! For participating in the poll.\")\n",
    "        continue\n",
    "    print(\"\\n\")\n",
    "    if k not in favorite_languages:\n",
    "        print(\"Hi \" + k.title() + \"! Please go through the poll and provide your feedback.\")"
   ]
  },
  {
   "cell_type": "code",
   "execution_count": 1,
   "metadata": {},
   "outputs": [
    {
     "name": "stdout",
     "output_type": "stream",
     "text": [
      "Enter the first number: sd\n"
     ]
    },
    {
     "ename": "ValueError",
     "evalue": "invalid literal for int() with base 10: 'sd'",
     "output_type": "error",
     "traceback": [
      "\u001b[1;31m---------------------------------------------------------------------------\u001b[0m",
      "\u001b[1;31mValueError\u001b[0m                                Traceback (most recent call last)",
      "\u001b[1;32m<ipython-input-1-c7f647d067f2>\u001b[0m in \u001b[0;36m<module>\u001b[1;34m\u001b[0m\n\u001b[0;32m      1\u001b[0m \u001b[1;31m#Calculator\u001b[0m\u001b[1;33m\u001b[0m\u001b[1;33m\u001b[0m\u001b[1;33m\u001b[0m\u001b[0m\n\u001b[1;32m----> 2\u001b[1;33m \u001b[0ma\u001b[0m \u001b[1;33m=\u001b[0m \u001b[0mint\u001b[0m\u001b[1;33m(\u001b[0m\u001b[0minput\u001b[0m\u001b[1;33m(\u001b[0m\u001b[1;34m\"Enter the first number: \"\u001b[0m\u001b[1;33m)\u001b[0m\u001b[1;33m)\u001b[0m\u001b[1;33m\u001b[0m\u001b[1;33m\u001b[0m\u001b[0m\n\u001b[0m\u001b[0;32m      3\u001b[0m \u001b[0mb\u001b[0m \u001b[1;33m=\u001b[0m \u001b[0mint\u001b[0m\u001b[1;33m(\u001b[0m\u001b[0minput\u001b[0m\u001b[1;33m(\u001b[0m\u001b[1;34m\"Enter the second number: \"\u001b[0m\u001b[1;33m)\u001b[0m\u001b[1;33m)\u001b[0m\u001b[1;33m\u001b[0m\u001b[1;33m\u001b[0m\u001b[0m\n\u001b[0;32m      4\u001b[0m \u001b[0mc\u001b[0m \u001b[1;33m=\u001b[0m \u001b[0minput\u001b[0m\u001b[1;33m(\u001b[0m\u001b[1;34m\"Enter the math operator: \"\u001b[0m\u001b[1;33m)\u001b[0m\u001b[1;33m\u001b[0m\u001b[1;33m\u001b[0m\u001b[0m\n\u001b[0;32m      5\u001b[0m \u001b[1;32mif\u001b[0m \u001b[0mc\u001b[0m \u001b[1;33m==\u001b[0m \u001b[1;34m'+'\u001b[0m\u001b[1;33m:\u001b[0m\u001b[1;33m\u001b[0m\u001b[1;33m\u001b[0m\u001b[0m\n",
      "\u001b[1;31mValueError\u001b[0m: invalid literal for int() with base 10: 'sd'"
     ]
    }
   ],
   "source": [
    "#Calculator\n",
    "a = int(input(\"Enter the first number: \"))\n",
    "b = int(input(\"Enter the second number: \"))\n",
    "c = input(\"Enter the math operator: \")\n",
    "if c == '+':\n",
    "    print(a, c, b, '=', a + b)\n",
    "elif c == '-':\n",
    "    print(a, c, b, '=', a - b)\n",
    "elif c == '*':\n",
    "    print(a, c, b, '=', a * b)\n",
    "elif c == '/':\n",
    "    if b != 0:    \n",
    "        print(a, c, b, '=', a / b)\n",
    "    if b == 0:\n",
    "        print(\"Please enter value other than 0 for second number.\")\n",
    "else:\n",
    "    print(\"You have entered an invalid operator.\")"
   ]
  },
  {
   "cell_type": "code",
   "execution_count": 166,
   "metadata": {},
   "outputs": [
    {
     "name": "stdout",
     "output_type": "stream",
     "text": [
      "{'first_name': 'John', 'last_name': 'Doe', 'age': '30', 'city': 'London'}\n",
      "{'first_name': 'Mac', 'last_name': 'Dyer', 'age': '25', 'city': 'Berlin'}\n",
      "{'first_name': 'Kim', 'last_name': 'Dun', 'age': '35', 'city': 'Vienna'}\n"
     ]
    }
   ],
   "source": [
    "#6-7\n",
    "person_01 = {'first_name':'John','last_name':'Doe','age':'30','city':'London'}\n",
    "person_02 = {'first_name':'Mac','last_name':'Dyer','age':'25','city':'Berlin'}\n",
    "person_03 = {'first_name':'Kim','last_name':'Dun','age':'35','city':'Vienna'}\n",
    "people = [person_01, person_02, person_03]\n",
    "for i in people:\n",
    "    print(i)"
   ]
  }
 ],
 "metadata": {
  "kernelspec": {
   "display_name": "Python 3",
   "language": "python",
   "name": "python3"
  },
  "language_info": {
   "codemirror_mode": {
    "name": "ipython",
    "version": 3
   },
   "file_extension": ".py",
   "mimetype": "text/x-python",
   "name": "python",
   "nbconvert_exporter": "python",
   "pygments_lexer": "ipython3",
   "version": "3.7.2"
  }
 },
 "nbformat": 4,
 "nbformat_minor": 2
}
