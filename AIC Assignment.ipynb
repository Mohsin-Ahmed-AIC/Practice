{
 "cells": [
  {
   "cell_type": "code",
   "execution_count": 12,
   "metadata": {},
   "outputs": [
    {
     "name": "stdout",
     "output_type": "stream",
     "text": [
      "Please enter the radius of circle: 98\n",
      "\n",
      "Formula for calculating the area of Circle\n",
      "\tA = pi * (r ** 2)\n",
      "\n",
      "The area of the circle having radius 98.00 is = 30171.86.\n"
     ]
    }
   ],
   "source": [
    "# Q-1\n",
    "\n",
    "import math\n",
    "\n",
    "radius = float(input(\"Please enter the radius of circle: \"))\n",
    "pi = math.pi\n",
    "A = pi * (radius ** 2)\n",
    "print(\"\\nFormula for calculating the area of Circle\\n\\tA = pi * (r ** 2)\")\n",
    "print(\"\\nThe area of the circle having radius \" + (\"{0:.2f}\".format(radius)) + \" is = \" + (\"{0:.2f}\".format(A)) + \".\")"
   ]
  },
  {
   "cell_type": "code",
   "execution_count": 18,
   "metadata": {},
   "outputs": [
    {
     "name": "stdout",
     "output_type": "stream",
     "text": [
      "Please enter a number to check: 5\n",
      "The number you have entered is Positive.\n"
     ]
    }
   ],
   "source": [
    "# Q-2\n",
    "\n",
    "number = int(input(\"Please enter a number to check: \"))\n",
    "if number > 0:\n",
    "    print(\"The number you have entered is Positive.\")\n",
    "elif number == 0:\n",
    "    print(\"The number you have entered is Zero.\")\n",
    "else:\n",
    "    print(\"The number you have entered is Negative.\")"
   ]
  },
  {
   "cell_type": "code",
   "execution_count": 23,
   "metadata": {},
   "outputs": [
    {
     "name": "stdout",
     "output_type": "stream",
     "text": [
      "Please enter the first number: 9.8\n",
      "Please enter the second number: 7\n",
      "\n",
      "The first number i.e. 9.8 is not completely divisible by second number i.e. 7.0.\n"
     ]
    }
   ],
   "source": [
    "# Q-3\n",
    "\n",
    "def mod(num1,num2):\n",
    "    if num1 % num2 == 0:\n",
    "        print(\"\\nThe first number i.e. \" + str(num1) + \" is completely divisible by second number i.e. \" + \n",
    "             str(num2) + \".\")\n",
    "    else:\n",
    "        print(\"\\nThe first number i.e. \" + str(num1) + \" is not completely divisible by second number i.e. \" + \n",
    "             str(num2) + \".\")\n",
    "first = float(input(\"Please enter the first number: \"))\n",
    "second = float(input(\"Please enter the second number: \"))\n",
    "mod(first,second)"
   ]
  },
  {
   "cell_type": "code",
   "execution_count": 28,
   "metadata": {},
   "outputs": [
    {
     "name": "stdout",
     "output_type": "stream",
     "text": [
      "Please enter a number in the form of integer: 6\n",
      "\n",
      "Calculating the result of the equation:\n",
      "n = n + nn + nnn\n",
      "\n",
      "The result of the expression is: 258.\n"
     ]
    }
   ],
   "source": [
    "# Q-4\n",
    "\n",
    "n = int(input(\"Please enter a number in the form of integer: \"))\n",
    "print(\"\\nCalculating the result of the equation:\\nn = n + nn + nnn\")\n",
    "n += (n * n) + (n * n * n)\n",
    "print(\"\\nThe result of the expression is: \" + str(n) + \".\")"
   ]
  },
  {
   "cell_type": "code",
   "execution_count": 70,
   "metadata": {},
   "outputs": [
    {
     "name": "stdout",
     "output_type": "stream",
     "text": [
      "\n",
      "\n",
      "1 \n",
      "\n",
      "1 2 \n",
      "\n",
      "1 2 3 \n",
      "\n",
      "1 2 3 4 \n",
      "\n",
      "1 2 3 4 5 \n",
      "\n"
     ]
    }
   ],
   "source": [
    "for num in range(6):\n",
    "    for i in range(num):\n",
    "        print (i + 1, end=\" \") #print number\n",
    "    # new line after each row to display pattern correctly\n",
    "    print(\"\\n\")"
   ]
  },
  {
   "cell_type": "code",
   "execution_count": null,
   "metadata": {},
   "outputs": [],
   "source": []
  }
 ],
 "metadata": {
  "kernelspec": {
   "display_name": "Python 3",
   "language": "python",
   "name": "python3"
  },
  "language_info": {
   "codemirror_mode": {
    "name": "ipython",
    "version": 3
   },
   "file_extension": ".py",
   "mimetype": "text/x-python",
   "name": "python",
   "nbconvert_exporter": "python",
   "pygments_lexer": "ipython3",
   "version": "3.7.2"
  }
 },
 "nbformat": 4,
 "nbformat_minor": 2
}
