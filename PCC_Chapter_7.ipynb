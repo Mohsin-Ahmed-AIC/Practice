{
 "cells": [
  {
   "cell_type": "code",
   "execution_count": null,
   "metadata": {},
   "outputs": [],
   "source": [
    "#7-1\n",
    "r_car = input(\"Enter the name of the car you would like: \")\n",
    "print(\"Let me see if I can find you a \" + r_car.title() + \".\")"
   ]
  },
  {
   "cell_type": "code",
   "execution_count": null,
   "metadata": {},
   "outputs": [],
   "source": [
    "#7-2\n",
    "rest = int(input(\"Enter the number of people are there in your diner group: \"))\n",
    "if rest > 8:\n",
    "    print(\"You'll have to wait for a table.\")\n",
    "elif rest <= 8 and rest > 0:\n",
    "    print(\"Your table is ready.\")\n",
    "else:\n",
    "    print(\"You've entered an invalid number.\")"
   ]
  },
  {
   "cell_type": "code",
   "execution_count": null,
   "metadata": {},
   "outputs": [],
   "source": [
    "#7-3\n",
    "mult_10 = int(input(\"Enter a number to check if it is a multiple of 10: \"))\n",
    "if mult_10 % 10 == 0:\n",
    "    print(\"The entered number is \" + str(mult_10) + \". And its a multiple of 10.\")\n",
    "else:\n",
    "    print(\"The entered number is \" + str(mult_10) + \". And its not a multiple of 10.\")"
   ]
  },
  {
   "cell_type": "code",
   "execution_count": null,
   "metadata": {},
   "outputs": [],
   "source": [
    "#7-4\n",
    "a = []\n",
    "while True:\n",
    "    toppings = input(\"Please enter your desired topping or type 'quit' to exit: \")\n",
    "    if toppings == 'quit':\n",
    "        break\n",
    "    elif toppings != 'quit':\n",
    "        a.append(toppings)\n",
    "        print(\"The \" + toppings.title() + \" topping is added to your pizza.\")\n",
    "print(a)"
   ]
  },
  {
   "cell_type": "code",
   "execution_count": null,
   "metadata": {},
   "outputs": [],
   "source": [
    "#8-1\n",
    "def display_message():\n",
    "    print(\"This task is related to function.\")\n",
    "display_message()"
   ]
  },
  {
   "cell_type": "code",
   "execution_count": null,
   "metadata": {},
   "outputs": [],
   "source": [
    "#8-2\n",
    "def favorite_book(title):\n",
    "    print(\"One of my favorite book is \" + title.title() + '.')\n",
    "favorite_book('Python Crash course')"
   ]
  },
  {
   "cell_type": "code",
   "execution_count": null,
   "metadata": {},
   "outputs": [],
   "source": [
    "#8-3\n",
    "def make_shirt(size, text):\n",
    "    print(\"The size of the shirt is: \" + str(size) + \". And the message printed on it is: \" + text + \".\")\n",
    "make_shirt(12,'My shirt')\n",
    "make_shirt(text = 'Jupyter', size = 'M')"
   ]
  },
  {
   "cell_type": "code",
   "execution_count": null,
   "metadata": {},
   "outputs": [],
   "source": [
    "#8-4\n",
    "def make_shirt(text = 'I love Python',size = 'L'):\n",
    "    print(\"The size of the shirt is: \" + str(size) + \". And the message printed on it is: \" + text + \".\")\n",
    "make_shirt()\n",
    "make_shirt(size = 'M')\n",
    "make_shirt(size = 'S',text = 'Java')"
   ]
  },
  {
   "cell_type": "code",
   "execution_count": null,
   "metadata": {},
   "outputs": [],
   "source": [
    "#8-5\n",
    "def describe_city(city,country='Pakistan'):\n",
    "    print(city.title() + \" is in \" + country.title())\n",
    "describe_city(city='Kohat')\n",
    "describe_city(country='England',city='London')\n",
    "describe_city(city='new york', country='usa')"
   ]
  },
  {
   "cell_type": "code",
   "execution_count": null,
   "metadata": {},
   "outputs": [],
   "source": [
    "#8-6\n",
    "def city_country(city, country):\n",
    "    print('\"' + city.title() + ', ' + country.title() + '\"')\n",
    "city_country('kremlin','russia')\n",
    "city_country('santiago','chile')\n",
    "city_country('jhang','pakistan')"
   ]
  },
  {
   "cell_type": "code",
   "execution_count": null,
   "metadata": {},
   "outputs": [],
   "source": [
    "#8-7\n",
    "def make_album(artist_name, album_title, num_tracks = ''):\n",
    "    if num_tracks:\n",
    "        album = {'Artist':artist_name.title(), 'Title':album_title.title(), 'Records':num_tracks}\n",
    "        return print(album)\n",
    "    else:\n",
    "        album = {'Artist':artist_name.title(), 'Title':album_title.title()}\n",
    "        return print(album)\n",
    "make_album('Jun','Azm')\n",
    "make_album('dooor','shaf',3)\n",
    "make_album('ank','sdkj')"
   ]
  },
  {
   "cell_type": "code",
   "execution_count": null,
   "metadata": {},
   "outputs": [],
   "source": [
    "#8-8\n",
    "def make_album(artist_name, album_title, num_tracks = ''):\n",
    "    if num_tracks:\n",
    "        album = {'Artist':artist_name.title(), 'Title':album_title.title(), 'Records':num_tracks}\n",
    "        return print(album)\n",
    "    else:\n",
    "        album = {'Artist':artist_name.title(), 'Title':album_title.title()}\n",
    "        return print(album)\n",
    "while True:\n",
    "    a = input(\"Enter the name of artist: \")\n",
    "    if a == \"quit\":\n",
    "        break\n",
    "    b = input(\"Enter the name of title: \")\n",
    "    if b == 'quit':\n",
    "        break\n",
    "    make_album(a,b)"
   ]
  },
  {
   "cell_type": "code",
   "execution_count": null,
   "metadata": {},
   "outputs": [],
   "source": [
    "#8-9\n",
    "def show_magicians(name):\n",
    "    for i in name:\n",
    "        print(i.title())\n",
    "mag = ['a','b','c','def','g']\n",
    "show_magicians(mag)"
   ]
  },
  {
   "cell_type": "code",
   "execution_count": 6,
   "metadata": {},
   "outputs": [
    {
     "name": "stdout",
     "output_type": "stream",
     "text": [
      "G The Great\n",
      "Def The Great\n",
      "C The Great\n",
      "B The Great\n",
      "A The Great\n"
     ]
    }
   ],
   "source": [
    "#8-10\n",
    "def show_magicians(mag):\n",
    "    for i in mag:\n",
    "        print(i.title())\n",
    "def make_great(mag):\n",
    "    ju = []\n",
    "    while mag:\n",
    "        j = mag.pop()\n",
    "        jh = j + \" the Great\"\n",
    "        ju.append(jh)\n",
    "    for k in ju:\n",
    "        mag.append(k)\n",
    "mag = ['a','b','c','def','g']\n",
    "make_great(mag)\n",
    "show_magicians(mag)"
   ]
  },
  {
   "cell_type": "code",
   "execution_count": 20,
   "metadata": {},
   "outputs": [
    {
     "name": "stdout",
     "output_type": "stream",
     "text": [
      "G The Great\n",
      "Def The Great\n",
      "C The Great\n",
      "B The Great\n",
      "A The Great\n",
      "A\n",
      "B\n",
      "C\n",
      "Def\n",
      "G\n"
     ]
    }
   ],
   "source": [
    "#8-11\n",
    "def show_magicians(mag):\n",
    "    for i in mag:\n",
    "        print(i.title())\n",
    "def make_great(mag):\n",
    "    ju = []\n",
    "    while mag:\n",
    "        j = mag.pop()\n",
    "        jh = j + \" the Great\"\n",
    "        ju.append(jh)\n",
    "    for k in ju:\n",
    "        mag.append(k)\n",
    "    return mag\n",
    "mag = ['a','b','c','def','g']\n",
    "mag1 = make_great(mag[:])\n",
    "show_magicians(mag1)\n",
    "show_magicians(mag)"
   ]
  },
  {
   "cell_type": "code",
   "execution_count": 24,
   "metadata": {},
   "outputs": [
    {
     "name": "stdout",
     "output_type": "stream",
     "text": [
      "The ordered sandwiches includes the following filling: \n",
      "- Salad\n",
      "The ordered sandwiches includes the following filling: \n",
      "- Salad\n",
      "- Egg\n",
      "The ordered sandwiches includes the following filling: \n",
      "- Salad\n",
      "- Egg\n",
      "- Chicken\n"
     ]
    }
   ],
   "source": [
    "#8-12\n",
    "def sandwich(*fill):\n",
    "    print(\"The ordered sandwiches includes the following filling: \")\n",
    "    for order in fill:\n",
    "        print(\"- \" + order.title())\n",
    "sandwich('salad')\n",
    "sandwich('salad','egg')\n",
    "sandwich('salad','egg','chicken')"
   ]
  },
  {
   "cell_type": "code",
   "execution_count": 12,
   "metadata": {},
   "outputs": [
    {
     "name": "stdout",
     "output_type": "stream",
     "text": [
      "{'Manufacturer': 'Subaru', 'Model no': 'Outback'}\n",
      "{'Manufacturer': 'Subaru', 'Model no': 'Outbacks', 'color': 'blue', 'tow_package': True}\n"
     ]
    }
   ],
   "source": [
    "#8-14\n",
    "def Car(manufacture,model,**others):\n",
    "    cars = {}\n",
    "    cars['Manufacturer'] = manufacture.title()\n",
    "    cars['Model no'] = model.title()\n",
    "    for k, v in others.items():\n",
    "        cars[k] = v\n",
    "    return cars\n",
    "a = Car('subaru', 'outback')\n",
    "b = Car('subaru', 'outbacks', color = 'blue', tow_package = True)\n",
    "print(a)\n",
    "print(b)"
   ]
  }
 ],
 "metadata": {
  "kernelspec": {
   "display_name": "Python 3",
   "language": "python",
   "name": "python3"
  },
  "language_info": {
   "codemirror_mode": {
    "name": "ipython",
    "version": 3
   },
   "file_extension": ".py",
   "mimetype": "text/x-python",
   "name": "python",
   "nbconvert_exporter": "python",
   "pygments_lexer": "ipython3",
   "version": "3.7.2"
  }
 },
 "nbformat": 4,
 "nbformat_minor": 2
}
