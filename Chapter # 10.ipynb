{
 "cells": [
  {
   "cell_type": "code",
   "execution_count": null,
   "metadata": {},
   "outputs": [],
   "source": [
    "a = []\n",
    "b = []\n",
    "i = 1\n",
    "while i != 6:\n",
    "    a.append(i)\n",
    "    print(' '.join(map(str, a))) \n",
    "    i += 1\n",
    "for i in range(len(a)):\n",
    "    a.pop()\n",
    "    print(' '.join(map(str, a)))\n",
    "    #i -= 1"
   ]
  },
  {
   "cell_type": "code",
   "execution_count": null,
   "metadata": {},
   "outputs": [],
   "source": [
    "a = []\n",
    "for i in range(1,6):\n",
    "    a.append(i)\n",
    "    print(*a,sep =\" \")\n",
    "b = a[:]\n",
    "for j in range(len(b)):\n",
    "    b.pop()\n",
    "    print(*b, sep = \" \")"
   ]
  },
  {
   "cell_type": "code",
   "execution_count": 12,
   "metadata": {},
   "outputs": [
    {
     "name": "stdout",
     "output_type": "stream",
     "text": [
      "3.1415926535\n",
      "8979323846\n",
      "2643383279\n"
     ]
    }
   ],
   "source": [
    "file = \"pi_digits.txt\"\n",
    "with open(file) as file_object:\n",
    "    contents = file_object.read()\n",
    "    print(contents)"
   ]
  },
  {
   "cell_type": "code",
   "execution_count": 17,
   "metadata": {},
   "outputs": [
    {
     "name": "stdout",
     "output_type": "stream",
     "text": [
      "3.1415926535\n",
      "8979323846\n",
      "2643383279\n"
     ]
    }
   ],
   "source": [
    "files = \"pi_digits.txt\"\n",
    "with open(files) as file:\n",
    "    contents = file.read()\n",
    "    print(contents.strip())"
   ]
  },
  {
   "cell_type": "code",
   "execution_count": 1,
   "metadata": {},
   "outputs": [
    {
     "name": "stdout",
     "output_type": "stream",
     "text": [
      "3.1415926535\n",
      "8979323846\n",
      "2643383279\n"
     ]
    }
   ],
   "source": [
    "files = \"pi_digits.txt\"\n",
    "with open(files) as file:\n",
    "    for lines in file:\n",
    "        print(lines.rstrip())"
   ]
  },
  {
   "cell_type": "code",
   "execution_count": 12,
   "metadata": {},
   "outputs": [
    {
     "name": "stdout",
     "output_type": "stream",
     "text": [
      "In Python you can change the case to lower by using .lower() function.\n",
      "In Python you can change the case to upper by using .upper() function.\n",
      "In Python you can use rstrip() to remove extra spaces from the right of a string.\n",
      "In Python you can use lstrip() to remove extra spaces from the left of a string.\n",
      "\n",
      "In Python you can change the case to lower by using .lower() function.\n",
      "In Python you can change the case to upper by using .upper() function.\n",
      "In Python you can use rstrip() to remove extra spaces from the right of a string.\n",
      "In Python you can use lstrip() to remove extra spaces from the left of a string.\n",
      "\n",
      "\n",
      "In Python you can change the case to lower by using .lower() function.\n",
      "In Python you can change the case to upper by using .upper() function.\n",
      "In Python you can use rstrip() to remove extra spaces from the right of a string.\n",
      "In Python you can use lstrip() to remove extra spaces from the left of a string.\n"
     ]
    }
   ],
   "source": [
    "#10-1\n",
    "with open('learning_python.txt') as f_obj:\n",
    "    content = f_obj.read()\n",
    "    print(content + '\\n')\n",
    "with open('learning_python.txt') as f_obj:\n",
    "    for line in f_obj:\n",
    "        print(line.strip())\n",
    "print('\\n')\n",
    "with open('learning_python.txt') as f_obj:\n",
    "    lines = f_obj.readlines()\n",
    "for line in lines:\n",
    "        print(line.strip())"
   ]
  },
  {
   "cell_type": "code",
   "execution_count": 17,
   "metadata": {},
   "outputs": [
    {
     "name": "stdout",
     "output_type": "stream",
     "text": [
      "In C you can change the case to lower by using .lower() function.\n",
      "\n",
      "In C you can change the case to upper by using .upper() function.\n",
      "\n",
      "In C you can use rstrip() to remove extra spaces from the right of a string.\n",
      "\n",
      "In C you can use lstrip() to remove extra spaces from the left of a string.\n"
     ]
    }
   ],
   "source": [
    "#10-2\n",
    "with open('learning_python1.txt') as f_obj:\n",
    "    for line in f_obj:\n",
    "        print(line.replace('Python','C'))"
   ]
  },
  {
   "cell_type": "code",
   "execution_count": 75,
   "metadata": {},
   "outputs": [
    {
     "name": "stdout",
     "output_type": "stream",
     "text": [
      "9\n"
     ]
    }
   ],
   "source": [
    "def fun(in1=2,out=3):\n",
    "    return in1 * out\n",
    "print(fun(3))"
   ]
  },
  {
   "cell_type": "code",
   "execution_count": null,
   "metadata": {},
   "outputs": [],
   "source": []
  }
 ],
 "metadata": {
  "kernelspec": {
   "display_name": "Python 3",
   "language": "python",
   "name": "python3"
  },
  "language_info": {
   "codemirror_mode": {
    "name": "ipython",
    "version": 3
   },
   "file_extension": ".py",
   "mimetype": "text/x-python",
   "name": "python",
   "nbconvert_exporter": "python",
   "pygments_lexer": "ipython3",
   "version": "3.7.2"
  }
 },
 "nbformat": 4,
 "nbformat_minor": 2
}
